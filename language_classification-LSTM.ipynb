{
 "cells": [
  {
   "cell_type": "code",
   "execution_count": 1,
   "metadata": {},
   "outputs": [],
   "source": [
    "import torch\n",
    "import torch.nn as nn\n",
    "import torch.nn.functional as F\n",
    "\n",
    "import os\n",
    "from io import open\n",
    "import glob\n",
    "import unicodedata\n",
    "import string\n",
    "import numpy as np\n",
    "import time\n",
    "import math"
   ]
  },
  {
   "cell_type": "code",
   "execution_count": 2,
   "metadata": {},
   "outputs": [],
   "source": [
    "data_path = './data/text_samples/*.txt'\n",
    "\n",
    "class LanguageDetect():\n",
    "    def __init__(self, files_path='./data/text_samples', limit_size=None):\n",
    "        # scan language files\n",
    "        lang_files = glob.glob(data_path)\n",
    "        \n",
    "        self.alphabet = string.ascii_lowercase\n",
    "        self.wordlist = []\n",
    "        self.labels = []\n",
    "        self.classes = []\n",
    "        self.padding = 0\n",
    "\n",
    "        idx = 0\n",
    "        for file in lang_files:\n",
    "            language = os.path.splitext(os.path.basename(file))[0]\n",
    "            self.classes.append(language)\n",
    "            words = self._transform_vocab(file, limit_size)\n",
    "            self.wordlist += words\n",
    "            self.labels += [idx for i in range(len(words))]\n",
    "            idx += 1\n",
    "        \n",
    "        self.padding = len(max(self.wordlist, key=len)) # size of the largest string\n",
    "           \n",
    "    def _unicodeToAscii(self, s):\n",
    "        all_letters = string.ascii_letters\n",
    "        return ''.join(\n",
    "            c for c in unicodedata.normalize('NFD', s)\n",
    "            if unicodedata.category(c) != 'Mn'\n",
    "            and c in all_letters)\n",
    "\n",
    "    def _transform_vocab(self, vocab, limit_size):\n",
    "        wordset = (open(vocab).read()).lower() # open file and convert letters to lowercase\n",
    "        wordset = ''.join(i for i in wordset if (i.isalpha() | i.isspace())).split() # remove all non alpha and single characters thus split into a list\n",
    "        wordset = [word for word in wordset if len(word) > 1] # remove single characters and spaces\n",
    "        wordset = [self._unicodeToAscii(word) for word in wordset] # convert to ASCII\n",
    "        wordset = list(set(wordset)) # list of unique elements\n",
    "        if limit_size is not None:\n",
    "            wordset = wordset[:limit_size]\n",
    "        return wordset\n",
    "\n",
    "\n",
    "    def _word2tensor(self, word, padding=True):\n",
    "        if padding:\n",
    "            num_charac = self.padding # pad to the fill the size\n",
    "        else:\n",
    "            num_charac = len(word)\n",
    "        len_word = len(word)\n",
    "        wtensor = torch.zeros(num_charac, 1, 1, dtype=torch.long)\n",
    "        for iletter in range(len_word):\n",
    "            wtensor[iletter][0][0] = self.alphabet.find(word[iletter])\n",
    "        return wtensor\n",
    "\n",
    "    \n",
    "    def __len__(self):\n",
    "        return len(self.labels)\n",
    "    \n",
    "    def __getitem__(self, idx):\n",
    "        word = self.wordlist[idx]\n",
    "        label = self.labels[idx]\n",
    "        \n",
    "        # convert a word to a tensor (len word x 1 x alphabet)\n",
    "        word = self._word2tensor(word, padding=False)\n",
    "       \n",
    "        return word, label\n",
    "        \n",
    "        "
   ]
  },
  {
   "cell_type": "code",
   "execution_count": 3,
   "metadata": {},
   "outputs": [
    {
     "name": "stdout",
     "output_type": "stream",
     "text": [
      "dataset size: 800\n",
      "classes: ['german', 'spanish', 'french', 'english']\n"
     ]
    }
   ],
   "source": [
    "dataset = LanguageDetect(data_path, limit_size=200)\n",
    "alphabet = dataset.alphabet\n",
    "\n",
    "classes = dataset.classes\n",
    "print('dataset size:', len(dataset))\n",
    "print('classes:', classes)"
   ]
  },
  {
   "cell_type": "code",
   "execution_count": 4,
   "metadata": {},
   "outputs": [
    {
     "name": "stdout",
     "output_type": "stream",
     "text": [
      "vocab_size: 26\n"
     ]
    }
   ],
   "source": [
    "vocab_size = len(alphabet)\n",
    "print('vocab_size:', vocab_size)"
   ]
  },
  {
   "cell_type": "code",
   "execution_count": 5,
   "metadata": {},
   "outputs": [
    {
     "name": "stdout",
     "output_type": "stream",
     "text": [
      "first input: torch.Size([5, 1, 1])\n",
      "label: 0\n",
      "\n",
      "Random sample:\n",
      "language= german\n",
      "word= tropenhaus\n"
     ]
    }
   ],
   "source": [
    "def tensor2word(tensor):\n",
    "    word = ''\n",
    "    for i in range(tensor.size(0)):\n",
    "        word += alphabet[tensor[i][0][0]]\n",
    "                word += alphabet[j]\n",
    "    return word\n",
    "        \n",
    "    \n",
    "# dataset dim = |idx (input,label) \n",
    "# first input\n",
    "print('first input:', dataset[0][0].size())\n",
    "# first label\n",
    "print('label:', dataset[0][1])\n",
    "print()\n",
    "\n",
    "# sample example\n",
    "sample_idx = np.random.randint(1, len(dataset))\n",
    "\n",
    "print('Random sample:')\n",
    "print('language=', classes[dataset[sample_idx][1]])\n",
    "print('word=', tensor2word(dataset[sample_idx][0]))"
   ]
  },
  {
   "cell_type": "code",
   "execution_count": 6,
   "metadata": {},
   "outputs": [],
   "source": [
    "# split dataset\n",
    "train_size = len(dataset)\n",
    "\n",
    "# creating dataloaders\n",
    "batch_size = 1\n",
    "\n",
    "# create training data loader\n",
    "train_loader = torch.utils.data.DataLoader(dataset=dataset, batch_size=batch_size, shuffle=True)"
   ]
  },
  {
   "cell_type": "markdown",
   "metadata": {},
   "source": [
    "### The model will be based on the following chart\n",
    "![LSTM model](./images/lan_class_lstm.png)"
   ]
  },
  {
   "cell_type": "code",
   "execution_count": 8,
   "metadata": {},
   "outputs": [],
   "source": [
    "class LSTM(nn.Module):\n",
    "    def __init__(self, vocab_size, embedding_dim, hidden_size, output_size):\n",
    "        super(LSTM, self).__init__()\n",
    "        \n",
    "        self.hidden_size = hidden_size\n",
    "        \n",
    "        self.embeddings = nn.Embedding(num_embeddings=vocab_size, embedding_dim=embedding_dim) \n",
    "        self.lstm = nn.LSTM(embedding_dim, hidden_size)\n",
    "        self.out = nn.Linear(hidden_size, output_size)\n",
    "        \n",
    "    def forward(self, input, last_hidden):\n",
    "        embedded = self.embeddings(input.view(-1)).view(1, 1, -1)\n",
    "        output, hidden = self.lstm(embedded, last_hidden)\n",
    "        output = F.log_softmax(self.out(output[0]), dim=1)\n",
    "        return hidden, output\n",
    "        \n",
    "    def init_hidden(self):\n",
    "        return (torch.zeros(1, 1, self.hidden_size, device=device), \n",
    "                torch.zeros(1, 1, self.hidden_size, device=device)) "
   ]
  },
  {
   "cell_type": "code",
   "execution_count": 9,
   "metadata": {},
   "outputs": [],
   "source": [
    "# hidden NN size\n",
    "hidden_size = 128\n",
    "embedded_dim = 128"
   ]
  },
  {
   "cell_type": "code",
   "execution_count": 10,
   "metadata": {},
   "outputs": [
    {
     "name": "stdout",
     "output_type": "stream",
     "text": [
      "Using gpu: True\n"
     ]
    }
   ],
   "source": [
    "use_cuda = torch.cuda.is_available()\n",
    "device = torch.device(\"cuda\" if use_cuda else \"cpu\")\n",
    "print(\"Using gpu:\", use_cuda)"
   ]
  },
  {
   "cell_type": "code",
   "execution_count": 11,
   "metadata": {},
   "outputs": [],
   "source": [
    "#rnn = RNN(len(alphabet), hidden_size, len(classes)).to(device)\n",
    "rnn = LSTM(vocab_size, embedded_dim, hidden_size, len(classes)).to(device)"
   ]
  },
  {
   "cell_type": "code",
   "execution_count": 12,
   "metadata": {},
   "outputs": [],
   "source": [
    "criterion = nn.NLLLoss()\n",
    "learning_rate = 0.0001\n",
    "\n",
    "PATH_state_dict = './lang_class.pth' # file to be stored the best weights of the trained model"
   ]
  },
  {
   "cell_type": "code",
   "execution_count": 13,
   "metadata": {},
   "outputs": [],
   "source": [
    "def train(model, criterion, learning_rate=0.0001, epochs=1000, plots_per_epoch=100):\n",
    "    \n",
    "    cost = []\n",
    "    start_time = time.time()\n",
    "    \n",
    "    for epoch in range(1, epochs+1):\n",
    "        running_loss = 0.0\n",
    "        running_corrects = 0\n",
    "        model.train()\n",
    "        \n",
    "        for inputs, labels in train_loader:\n",
    "            inputs = inputs[0].to(device)\n",
    "            labels = labels.to(device)\n",
    "            \n",
    "            hidden = model.init_hidden()\n",
    "            model.zero_grad()\n",
    "\n",
    "            for i in range(inputs.size(0)): # go through each letter\n",
    "                hidden, output = model(inputs[i], hidden)\n",
    "                \n",
    "            loss = criterion(output, labels)\n",
    "            loss.backward()\n",
    "            \n",
    "            # Add parameters' gradients to their values, multiplied by learning rate\n",
    "            for par in model.parameters():\n",
    "                par.data.add_(-learning_rate, par.grad.data)\n",
    "\n",
    "            _, guess = output.topk(1) # return the 1 largest element from output tensor\n",
    "            guess = guess[0].item()\n",
    "            if guess == int(labels):\n",
    "                running_corrects += 1\n",
    "            running_loss += loss.item()\n",
    "            \n",
    "        cost.append(running_loss)\n",
    "        epoch_acc = running_corrects / train_size\n",
    "        \n",
    "        if epoch % plots_per_epoch == 0:\n",
    "            print('Epoch [{}] -> Loss: {:.4f}  Acc: {:.4f}'.format(\n",
    "                epoch, running_loss/train_size, epoch_acc))\n",
    "\n",
    "    \n",
    "    time_elapsed = time.time() - start_time\n",
    "    print()\n",
    "    print('Training completed in {:.0f}m {:.0f}s'.format(\n",
    "        time_elapsed // 60, time_elapsed % 60))\n",
    "    \n",
    "    torch.save(model.state_dict(), PATH_state_dict)\n",
    "    \n",
    "    return model, cost"
   ]
  },
  {
   "cell_type": "code",
   "execution_count": 14,
   "metadata": {},
   "outputs": [
    {
     "name": "stdout",
     "output_type": "stream",
     "text": [
      "Epoch [100] -> Loss: 1.0784  Acc: 0.5513\n",
      "Epoch [200] -> Loss: 0.9552  Acc: 0.6075\n",
      "Epoch [300] -> Loss: 0.8599  Acc: 0.6650\n",
      "Epoch [400] -> Loss: 0.7866  Acc: 0.6863\n",
      "Epoch [500] -> Loss: 0.7287  Acc: 0.7175\n",
      "Epoch [600] -> Loss: 0.6681  Acc: 0.7512\n",
      "Epoch [700] -> Loss: 0.6017  Acc: 0.7750\n",
      "Epoch [800] -> Loss: 0.5296  Acc: 0.8175\n",
      "Epoch [900] -> Loss: 0.4597  Acc: 0.8425\n",
      "Epoch [1000] -> Loss: 0.3940  Acc: 0.8712\n",
      "Epoch [1100] -> Loss: 0.3323  Acc: 0.8938\n",
      "Epoch [1200] -> Loss: 0.2760  Acc: 0.9125\n",
      "Epoch [1300] -> Loss: 0.2277  Acc: 0.9413\n",
      "Epoch [1400] -> Loss: 0.1864  Acc: 0.9525\n",
      "Epoch [1500] -> Loss: 0.1528  Acc: 0.9625\n",
      "Epoch [1600] -> Loss: 0.1271  Acc: 0.9700\n",
      "Epoch [1700] -> Loss: 0.1053  Acc: 0.9775\n",
      "Epoch [1800] -> Loss: 0.0900  Acc: 0.9800\n",
      "Epoch [1900] -> Loss: 0.0773  Acc: 0.9788\n",
      "Epoch [2000] -> Loss: 0.0682  Acc: 0.9788\n",
      "\n",
      "Training completed in 120m 11s\n"
     ]
    }
   ],
   "source": [
    "_, cost = train(rnn, criterion, learning_rate, epochs=2000)"
   ]
  },
  {
   "cell_type": "code",
   "execution_count": 18,
   "metadata": {
    "scrolled": true
   },
   "outputs": [
    {
     "data": {
      "text/plain": [
       "[<matplotlib.lines.Line2D at 0x7fadb25c2290>]"
      ]
     },
     "execution_count": 18,
     "metadata": {},
     "output_type": "execute_result"
    },
    {
     "data": {
      "image/png": "[encoded data removed]",
      "text/plain": [
       "<Figure size 432x288 with 1 Axes>"
      ]
     },
     "metadata": {
      "needs_background": "light"
     },
     "output_type": "display_data"
    }
   ],
   "source": [
    "import matplotlib.pyplot as plt\n",
    "import matplotlib.ticker as ticker\n",
    "\n",
    "plt.figure()\n",
    "plt.plot(cost)"
   ]
  },
  {
   "cell_type": "code",
   "execution_count": 19,
   "metadata": {},
   "outputs": [],
   "source": [
    "n_confusion = int(0.5 * train_size) # half of the train dataset to be evaluated\n",
    "\n",
    "def confusion_matrix(model):\n",
    "    confusion = torch.zeros(len(classes), len(classes))\n",
    "    model.eval()\n",
    "    for i in range(n_confusion):\n",
    "        for inputs, label in train_loader:\n",
    "            inputs = inputs.to(device)\n",
    "            label = label.to(device)\n",
    "            hidden = model.init_hidden()\n",
    "\n",
    "            word = inputs[0]\n",
    "            for i in range(word.size()[0]): # go through each letter\n",
    "                if torch.sum(word[i]) > 0: # avoid paddding\n",
    "                    hidden, output = model(word[i], hidden)\n",
    "                else: break\n",
    "\n",
    "            _, guess = output.topk(1) # return the 1 largest element\n",
    "            guess = guess[0].item()\n",
    "            \n",
    "            confusion[int(label)][guess] += 1\n",
    "\n",
    "    # Normalize by dividing every row by its sum\n",
    "    for i in range(len(classes)):\n",
    "        confusion[i] = confusion[i] / confusion[i].sum()\n",
    "\n",
    "    # Set up plot\n",
    "    fig = plt.figure()\n",
    "    ax = fig.add_subplot(111)\n",
    "    cax = ax.matshow(confusion.numpy())\n",
    "    fig.colorbar(cax)\n",
    "\n",
    "    # Set up axes\n",
    "    ax.set_xticklabels([''] + classes, rotation=90)\n",
    "    ax.set_yticklabels([''] + classes)\n",
    "\n",
    "    # Force label at every tick\n",
    "    ax.xaxis.set_major_locator(ticker.MultipleLocator(1))\n",
    "    ax.yaxis.set_major_locator(ticker.MultipleLocator(1))\n",
    "\n",
    "    # sphinx_gallery_thumbnail_number = 2\n",
    "    plt.show()"
   ]
  },
  {
   "cell_type": "code",
   "execution_count": 20,
   "metadata": {},
   "outputs": [
    {
     "data": {
      "image/png": "[encoded data removed]",
      "text/plain": [
       "<Figure size 432x288 with 2 Axes>"
      ]
     },
     "metadata": {
      "needs_background": "light"
     },
     "output_type": "display_data"
    }
   ],
   "source": [
    "confusion_matrix(rnn)"
   ]
  },
  {
   "cell_type": "code",
   "execution_count": null,
   "metadata": {},
   "outputs": [],
   "source": []
  }
 ],
 "metadata": {
  "kernelspec": {
   "display_name": "Python 3",
   "language": "python",
   "name": "python3"
  },
  "language_info": {
   "codemirror_mode": {
    "name": "ipython",
    "version": 3
   },
   "file_extension": ".py",
   "mimetype": "text/x-python",
   "name": "python",
   "nbconvert_exporter": "python",
   "pygments_lexer": "ipython3",
   "version": "3.7.4"
  }
 },
 "nbformat": 4,
 "nbformat_minor": 2
}
