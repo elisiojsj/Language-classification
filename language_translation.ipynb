{
 "cells": [
  {
   "cell_type": "code",
   "execution_count": 19,
   "metadata": {
    "scrolled": true
   },
   "outputs": [],
   "source": [
    "import torch\n",
    "import torch.nn as nn\n",
    "import torch.nn.functional as F\n",
    "\n",
    "from io import open\n",
    "import os\n",
    "import numpy as np\n",
    "import time\n",
    "import string"
   ]
  },
  {
   "cell_type": "code",
   "execution_count": 20,
   "metadata": {
    "scrolled": true
   },
   "outputs": [
    {
     "name": "stdout",
     "output_type": "stream",
     "text": [
      "春 に なれ ば 花 が 咲き 、 夏 に は ほととぎす が 鳴き 、 秋 に は 月 が 美しく 、 冬 に は 雪 が 降っ て 身 が ひきしまる \n",
      "\n"
     ]
    }
   ],
   "source": [
    "# MeCab is an open-source text segmentation library for use with text written in the Japanese.\n",
    "import MeCab # pip install mecab-python3\n",
    "wakati = MeCab.Tagger(\"-Owakati\")\n",
    "\n",
    "example = \"春になれば花が咲き、夏にはほととぎすが鳴き、秋には月が美しく、冬には雪が降って身がひきしまる。\".strip('。')\n",
    "print(wakati.parse(example))"
   ]
  },
  {
   "cell_type": "code",
   "execution_count": 21,
   "metadata": {
    "scrolled": true
   },
   "outputs": [],
   "source": [
    "MAX_LEN_SENTENCE = 10\n",
    "SOS = 0\n",
    "EOS = 1\n",
    "\n",
    "class Language:\n",
    "    def __init__(self, name_lang):\n",
    "        self.name = name_lang\n",
    "        self.word2index = {}\n",
    "        self.index2word = {SOS: \"SOS\", EOS: \"EOS\"}\n",
    "        self.vocab_size = 2\n",
    "        \n",
    "    def __len__(self):\n",
    "        return self.vocab_size\n",
    "        \n",
    "    def addWords(self, sentence):\n",
    "        for word in sentence.split(' '):\n",
    "            if word not in self.word2index:\n",
    "                self.index2word[self.vocab_size] = word\n",
    "                self.word2index[word] = self.vocab_size\n",
    "                self.vocab_size += 1"
   ]
  },
  {
   "cell_type": "code",
   "execution_count": 22,
   "metadata": {
    "scrolled": true
   },
   "outputs": [],
   "source": [
    "class LanguageTranslate():\n",
    "    def __init__(self, input_lang, target_lang, file_path='./dictionary', limit_size=None):\n",
    "        self.input_lang = input_lang\n",
    "        self.target_lang = target_lang\n",
    "        self.pair_sentences = []\n",
    "        \n",
    "        file_name = \"{}-{}.txt\".format(self.input_lang.name, self.target_lang.name)\n",
    "        file_name = os.path.join(file_path, file_name)\n",
    "        lines = open(file_name).read().strip().split('\\n')\n",
    "        \n",
    "        self.pair_sentences = [[s for s in line.split('\\t')[:2]] for line in lines]\n",
    "        \n",
    "        # if the language is japanese do text segmentation\n",
    "        for s in self.pair_sentences:\n",
    "            if self.target_lang.name == 'jpn':\n",
    "                s[1] = wakati.parse(s[1]).strip(' \\n')#.strip('\\n')#.strip('。')\n",
    "                s[1] = s[1].strip('。')\n",
    "            else : s[1] = self._normalize(s[1])\n",
    "            s[0] = self._normalize(s[0])\n",
    "        \n",
    "        for pairs in self.pair_sentences: \n",
    "            self.input_lang.addWords(pairs[0])\n",
    "            self.target_lang.addWords(pairs[1])\n",
    "        \n",
    "        print('Pairs size (before filter):', len(self.pair_sentences))\n",
    "        self.pair_sentences = self._filterpairs(self.pair_sentences, lang_1=self.input_lang.name) \n",
    "        print('Pairs size (after filter):', len(self.pair_sentences))\n",
    "       \n",
    "    def _filterpairs(self, pairs, lang_1='eng'):\n",
    "        filter_prefixes = (\"the\", \"this\", \"that\", \"these\", \"those\") # must be lower case\n",
    "        pairs_filtered = []\n",
    "        # the filter is built over the first pair of\n",
    "        for pair in pairs:\n",
    "            if (len(pair[0].split(' ')) < MAX_LEN_SENTENCE) and (len(pair[1].split(' ')) < MAX_LEN_SENTENCE):\n",
    "                if (lang_1=='eng' and pair[0].startswith(filter_prefixes)):\n",
    "                    pairs_filtered.append(pair)\n",
    "        return pairs_filtered\n",
    "                    \n",
    "    \n",
    "\n",
    "    def __len__(self):\n",
    "        return len(self.pair_sentences)\n",
    "    \n",
    "    def __getitem__(self, idx):\n",
    "        pair = self.pair_sentences[idx]\n",
    "        \n",
    "        inp_lang = [self.input_lang.word2index[i] for i in pair[0].split(' ')]\n",
    "        inp_lang.append(EOS)\n",
    "        targ_lang = [self.target_lang.word2index[i] for i in pair[1].split(' ')]\n",
    "        targ_lang.append(EOS)\n",
    "        \n",
    "        inp_lang = torch.tensor(inp_lang, dtype=torch.long).view(-1, 1)\n",
    "        targ_lang = torch.tensor(targ_lang, dtype=torch.long).view(-1, 1)\n",
    "       \n",
    "        return inp_lang, targ_lang\n",
    "        \n",
    " \n",
    "    def _normalize(self, s):\n",
    "        s = s.lower() # everything to lower case\n",
    "        s = s.translate(str.maketrans('', '', string.punctuation)) # remove all punctuations\n",
    "        return s\n",
    "    \n",
    "        \n"
   ]
  },
  {
   "cell_type": "code",
   "execution_count": 23,
   "metadata": {
    "scrolled": false
   },
   "outputs": [
    {
     "name": "stdout",
     "output_type": "stream",
     "text": [
      "pairs size (before filter): 45815\n",
      "pairs size (after filter): 2304\n",
      "Input language vocabulary size: 9390\n",
      "Target language vocabulary size: 13935\n"
     ]
    }
   ],
   "source": [
    "data_path = './dictionary'\n",
    "input_language = Language('eng')\n",
    "target_language = Language('jpn')\n",
    "\n",
    "dataset = LanguageTranslate(input_language, target_language, data_path)\n",
    "\n",
    "input_lang_vocab_size = dataset.input_lang.vocab_size\n",
    "target_lang_vocab_size = dataset.target_lang.vocab_size\n",
    "print(\"Input language vocabulary size:\", input_lang_vocab_size)\n",
    "print(\"Target language vocabulary size:\", target_lang_vocab_size)"
   ]
  },
  {
   "cell_type": "code",
   "execution_count": 24,
   "metadata": {
    "scrolled": true
   },
   "outputs": [
    {
     "name": "stdout",
     "output_type": "stream",
     "text": [
      "Number of pairs of sentences: 2304\n"
     ]
    }
   ],
   "source": [
    "train_size = len(dataset)\n",
    "batch_size = 1\n",
    "train_loader = torch.utils.data.DataLoader(dataset=dataset, batch_size=batch_size, shuffle=True)\n",
    "print('Number of pairs of sentences:', train_size)"
   ]
  },
  {
   "cell_type": "code",
   "execution_count": 25,
   "metadata": {
    "scrolled": true
   },
   "outputs": [],
   "source": [
    "class Encoder(torch.nn.Module):\n",
    "    def __init__(self, vocab_size, hidden_size, embedding_dim):\n",
    "        super(Encoder, self).__init__()\n",
    "        self.hidden_size = hidden_size\n",
    "        \n",
    "        self.embedding = torch.nn.Embedding(num_embeddings=vocab_size, embedding_dim=embedding_dim)\n",
    "        self.rnn = torch.nn.GRU(embedding_dim, hidden_size, num_layers=1)\n",
    "        \n",
    "    def forward(self, inputs, last_hidden):\n",
    "        embedded = self.embedding(inputs).view(1, 1, -1)\n",
    "        output, hidden = self.rnn(embedded, last_hidden)\n",
    "        return output, hidden\n",
    "    \n",
    "    def init_hidden(self):\n",
    "        return torch.zeros(1, 1, self.hidden_size, device=device)"
   ]
  },
  {
   "cell_type": "code",
   "execution_count": 26,
   "metadata": {},
   "outputs": [],
   "source": [
    "class DecoderAttn(nn.Module):\n",
    "    def __init__(self, hidden_size, output_vocab_size, embedding_dim, dropout_p=0.1, max_length=MAX_LEN_SENTENCE):\n",
    "        super(DecoderAttn, self).__init__()\n",
    "\n",
    "        self.embedding = nn.Embedding(output_vocab_size, embedding_dim)\n",
    "        self.attn = nn.Linear(hidden_size + embedding_dim, max_length)\n",
    "        self.attn_combine = nn.Linear(hidden_size + embedding_dim, hidden_size)\n",
    "        self.dropout = nn.Dropout(dropout_p)\n",
    "        self.gru = nn.GRU(hidden_size, hidden_size)\n",
    "        self.out = nn.Linear(hidden_size, output_vocab_size)\n",
    "\n",
    "    def forward(self, input, hidden, encoder_outputs):\n",
    "        embedded = self.embedding(input).view(1, 1, -1)\n",
    "        embedded = self.dropout(embedded)\n",
    "\n",
    "        attn_weights = torch.cat((embedded[0], hidden[0]), 1)\n",
    "        attn_weights = self.attn(attn_weights)\n",
    "        attn_weights = F.softmax(attn_weights, dim=1)\n",
    "        \n",
    "        attn_applied = torch.bmm(attn_weights.unsqueeze(0), encoder_outputs.unsqueeze(0))\n",
    "\n",
    "        output = torch.cat((embedded[0], attn_applied[0]), 1)\n",
    "        output = self.attn_combine(output).unsqueeze(0)\n",
    "\n",
    "        output = F.relu(output)\n",
    "        output, hidden = self.gru(output, hidden)\n",
    "\n",
    "        output = F.log_softmax(self.out(output[0]), dim=1)\n",
    "        return output, hidden, attn_weights"
   ]
  },
  {
   "cell_type": "code",
   "execution_count": 27,
   "metadata": {
    "scrolled": true
   },
   "outputs": [
    {
     "name": "stdout",
     "output_type": "stream",
     "text": [
      "Using gpu: True\n"
     ]
    }
   ],
   "source": [
    "use_cuda = torch.cuda.is_available()\n",
    "device = torch.device(\"cuda\" if use_cuda else \"cpu\")\n",
    "print(\"Using gpu:\", use_cuda)"
   ]
  },
  {
   "cell_type": "code",
   "execution_count": 28,
   "metadata": {
    "scrolled": true
   },
   "outputs": [],
   "source": [
    "# hidden NN size and embedding dimensions definition\n",
    "embedding_dim = 256\n",
    "hidden_size = 256"
   ]
  },
  {
   "cell_type": "code",
   "execution_count": 29,
   "metadata": {
    "scrolled": true
   },
   "outputs": [],
   "source": [
    "encoder = Encoder(input_lang_vocab_size, hidden_size, embedding_dim).to(device)\n",
    "decoder = DecoderAttn(hidden_size, target_lang_vocab_size, embedding_dim).to(device)"
   ]
  },
  {
   "cell_type": "code",
   "execution_count": 30,
   "metadata": {
    "scrolled": true
   },
   "outputs": [],
   "source": [
    "learning_rate = 0.01\n",
    "\n",
    "encoder_optim = torch.optim.SGD(encoder.parameters(), lr=learning_rate)\n",
    "decoder_optim = torch.optim.SGD(decoder.parameters(), lr=learning_rate)\n",
    "\n",
    "criterion = torch.nn.NLLLoss()"
   ]
  },
  {
   "cell_type": "code",
   "execution_count": 31,
   "metadata": {
    "scrolled": false
   },
   "outputs": [],
   "source": [
    "def train(encoder_model, decoder_model, encoder_optim, decoder_optim, criterion, epochs=10, num_samples=75000, plots_per_samples=5000):\n",
    "    \n",
    "    cost = []\n",
    "    start_time = time.time()\n",
    "    loss = 0\n",
    "    \n",
    "    sample_acc_avg = 0\n",
    "    sample_loss_avg = 0\n",
    "\n",
    "    for epoch in range(1, epochs+1):\n",
    "        for inp_sentence, targ_sentence in train_loader:\n",
    "            sample_acc = 0\n",
    "            sample_loss = 0.0\n",
    "            running_corrects = 0\n",
    "            loss = 0\n",
    "            inp_sentence = inp_sentence[0].to(device)\n",
    "            targ_sentence = targ_sentence[0].to(device)\n",
    "            \n",
    "            encoder_model.zero_grad()\n",
    "            decoder_model.zero_grad()\n",
    "\n",
    "            encoder_hidden = encoder_model.init_hidden()\n",
    "\n",
    "            all_encoder_outputs= torch.zeros(MAX_LEN_SENTENCE, encoder.hidden_size, device=device)\n",
    "            # run input sentence though encoder model\n",
    "            for i in range(inp_sentence.size(0)):\n",
    "                encoder_output, encoder_hidden = encoder_model(inp_sentence[i], encoder_hidden)\n",
    "                all_encoder_outputs[i] = encoder_output[0, 0] # get output in one dimension\n",
    "                \n",
    "\n",
    "            decoder_input = torch.tensor([[SOS]], dtype=torch.long).to(device)\n",
    "            decoder_hidden = encoder_hidden # the decoder use the same hidden layer used by the encoder\n",
    "\n",
    "            # run target sentence though decoder model\n",
    "            for i in range(targ_sentence.size(0)):\n",
    "                decoder_output, decoder_hidden, _ = decoder_model(decoder_input, decoder_hidden, all_encoder_outputs)\n",
    "\n",
    "                _, guess = decoder_output.topk(1)\n",
    "                decoder_input = guess.squeeze().detach()  # detach from history as input\n",
    "\n",
    "                loss += criterion(decoder_output, targ_sentence[i])\n",
    "                guess = guess[0].item()\n",
    "                if guess == int(targ_sentence[i]):\n",
    "                    running_corrects += 1\n",
    "\n",
    "                if decoder_input.item() == EOS:\n",
    "                    break\n",
    "\n",
    "            loss.backward() # backpropagation through time\n",
    "\n",
    "            encoder_optim.step() # update gradients of encoder\n",
    "            decoder_optim.step() # update gradients of decoder\n",
    "\n",
    "            sample_acc = running_corrects / targ_sentence.size(0)\n",
    "            sample_loss = loss.item() / targ_sentence.size(0)\n",
    "\n",
    "            cost.append(sample_loss)\n",
    "\n",
    "            sample_acc_avg += sample_acc\n",
    "            sample_loss_avg += sample_loss\n",
    "\n",
    "        sample_acc_avg /= train_size\n",
    "        sample_loss_avg /= train_size\n",
    "\n",
    "        time_elapsed = time.time() - start_time\n",
    "        print('Epoch [{}] -> Loss: {:.4f}  Acc: {:.4f} ({:.0f}m {:.0f}s)'.format(\n",
    "            epoch, sample_loss_avg, sample_acc_avg, time_elapsed//60, time_elapsed%60))\n",
    "        sample_acc_avg = 0\n",
    "        sample_loss_avg = 0\n",
    "\n",
    "    time_elapsed = time.time() - start_time\n",
    "    print()\n",
    "    print('Training completed in {:.0f}m {:.0f}s'.format(\n",
    "        time_elapsed // 60, time_elapsed % 60))\n",
    "\n",
    "    torch.save(encoder_model.state_dict(), './encoder_model.pth')\n",
    "    torch.save(decoder_model.state_dict(), './decoder_model.pth')\n",
    "    return cost"
   ]
  },
  {
   "cell_type": "code",
   "execution_count": 32,
   "metadata": {
    "scrolled": false
   },
   "outputs": [
    {
     "name": "stdout",
     "output_type": "stream",
     "text": [
      "Total epochs: 43\n",
      "Epoch [1] -> Loss: 4.7283  Acc: 0.1713 (0m 30s)\n",
      "Epoch [2] -> Loss: 4.1803  Acc: 0.2323 (1m 3s)\n",
      "Epoch [3] -> Loss: 3.7425  Acc: 0.2725 (1m 38s)\n",
      "Epoch [4] -> Loss: 3.2971  Acc: 0.3202 (2m 12s)\n",
      "Epoch [5] -> Loss: 2.8733  Acc: 0.3685 (2m 48s)\n",
      "Epoch [6] -> Loss: 2.4677  Acc: 0.4331 (3m 21s)\n",
      "Epoch [7] -> Loss: 2.1092  Acc: 0.4884 (3m 53s)\n",
      "Epoch [8] -> Loss: 1.7705  Acc: 0.5524 (4m 26s)\n",
      "Epoch [9] -> Loss: 1.4821  Acc: 0.6011 (4m 58s)\n",
      "Epoch [10] -> Loss: 1.2208  Acc: 0.6654 (5m 31s)\n",
      "Epoch [11] -> Loss: 0.9910  Acc: 0.7196 (6m 3s)\n",
      "Epoch [12] -> Loss: 0.8116  Acc: 0.7730 (6m 37s)\n",
      "Epoch [13] -> Loss: 0.6401  Acc: 0.8267 (7m 12s)\n",
      "Epoch [14] -> Loss: 0.5347  Acc: 0.8502 (7m 48s)\n",
      "Epoch [15] -> Loss: 0.4393  Acc: 0.8747 (8m 27s)\n",
      "Epoch [16] -> Loss: 0.3778  Acc: 0.8916 (9m 2s)\n",
      "Epoch [17] -> Loss: 0.3321  Acc: 0.9016 (9m 38s)\n",
      "Epoch [18] -> Loss: 0.3033  Acc: 0.9069 (10m 12s)\n",
      "Epoch [19] -> Loss: 0.2718  Acc: 0.9138 (10m 47s)\n",
      "Epoch [20] -> Loss: 0.2620  Acc: 0.9155 (11m 22s)\n",
      "Epoch [21] -> Loss: 0.2590  Acc: 0.9131 (11m 57s)\n",
      "Epoch [22] -> Loss: 0.2416  Acc: 0.9172 (12m 33s)\n",
      "Epoch [23] -> Loss: 0.2312  Acc: 0.9195 (13m 8s)\n",
      "Epoch [24] -> Loss: 0.2259  Acc: 0.9206 (13m 41s)\n",
      "Epoch [25] -> Loss: 0.2205  Acc: 0.9194 (14m 15s)\n",
      "Epoch [26] -> Loss: 0.2196  Acc: 0.9213 (14m 50s)\n",
      "Epoch [27] -> Loss: 0.2134  Acc: 0.9212 (15m 26s)\n",
      "Epoch [28] -> Loss: 0.2150  Acc: 0.9203 (16m 1s)\n",
      "Epoch [29] -> Loss: 0.2070  Acc: 0.9217 (16m 37s)\n",
      "Epoch [30] -> Loss: 0.2041  Acc: 0.9232 (17m 13s)\n",
      "Epoch [31] -> Loss: 0.2041  Acc: 0.9214 (17m 48s)\n",
      "Epoch [32] -> Loss: 0.2019  Acc: 0.9212 (18m 22s)\n",
      "Epoch [33] -> Loss: 0.1990  Acc: 0.9215 (18m 55s)\n",
      "Epoch [34] -> Loss: 0.1933  Acc: 0.9224 (19m 30s)\n",
      "Epoch [35] -> Loss: 0.1838  Acc: 0.9256 (20m 4s)\n",
      "Epoch [36] -> Loss: 0.1908  Acc: 0.9248 (20m 41s)\n",
      "Epoch [37] -> Loss: 0.1876  Acc: 0.9239 (21m 16s)\n",
      "Epoch [38] -> Loss: 0.1872  Acc: 0.9234 (21m 49s)\n",
      "Epoch [39] -> Loss: 0.1941  Acc: 0.9208 (22m 23s)\n",
      "Epoch [40] -> Loss: 0.1904  Acc: 0.9241 (22m 58s)\n",
      "Epoch [41] -> Loss: 0.1770  Acc: 0.9272 (23m 31s)\n",
      "Epoch [42] -> Loss: 0.1882  Acc: 0.9248 (24m 6s)\n",
      "Epoch [43] -> Loss: 0.1841  Acc: 0.9247 (24m 41s)\n",
      "\n",
      "Training completed in 24m 41s\n"
     ]
    }
   ],
   "source": [
    "epochsc = int(100000/train_size)\n",
    "print('Total epochs:', epochsc)\n",
    "\n",
    "cost = train(encoder, decoder, encoder_optim, decoder_optim, criterion, epochs=epochsc)"
   ]
  },
  {
   "cell_type": "code",
   "execution_count": 37,
   "metadata": {
    "scrolled": false
   },
   "outputs": [
    {
     "data": {
      "text/plain": [
       "[<matplotlib.lines.Line2D at 0x7fb98ee6b650>]"
      ]
     },
     "execution_count": 37,
     "metadata": {},
     "output_type": "execute_result"
    },
    {
     "data": {
      "image/png": "[encoded data removed]",
      "text/plain": [
       "<Figure size 432x288 with 1 Axes>"
      ]
     },
     "metadata": {
      "needs_background": "light"
     },
     "output_type": "display_data"
    }
   ],
   "source": [
    "import matplotlib.pyplot as plt\n",
    "import matplotlib.ticker as ticker\n",
    "\n",
    "plt.figure()\n",
    "plt.plot(cost)"
   ]
  },
  {
   "cell_type": "code",
   "execution_count": 34,
   "metadata": {
    "scrolled": true
   },
   "outputs": [],
   "source": [
    "def translate(encoder_model, decoder_model, sentence, remove_spaces= False, toTensor=False):\n",
    "    with torch.no_grad():\n",
    "        sentence_translated = []\n",
    "        encoder_hidden = encoder_model.init_hidden().to(device)\n",
    "        \n",
    "        all_encoder_outputs = torch.zeros(MAX_LEN_SENTENCE, encoder.hidden_size, device=device)\n",
    "        for iw in range(sentence.size(0)):\n",
    "            encoder_output, encoder_hidden = encoder_model(sentence[iw], encoder_hidden) \n",
    "            #stores all encoder outputs to be used on the decoder\n",
    "            all_encoder_outputs[iw] = encoder_output[0, 0]\n",
    "        \n",
    "        decoder_hidden = encoder_hidden #the same hidden state is used for decoding\n",
    "        decoder_input = torch.tensor([[SOS]], dtype=torch.long, device=device)\n",
    "        for iw in range(MAX_LEN_SENTENCE):\n",
    "            decoder_output, decoder_hidden, attn_weights = decoder_model(decoder_input, decoder_hidden, all_encoder_outputs)\n",
    "            \n",
    "            _, guess = decoder_output.topk(1)\n",
    "            decoder_input = guess.squeeze().detach()\n",
    "            \n",
    "            if decoder_input.item() == EOS:\n",
    "                break\n",
    "            else:\n",
    "                sentence_translated.append(target_language.index2word[decoder_input.item()])\n",
    "                \n",
    "        sentence_translated = ' '.join(sentence_translated) \n",
    "        if remove_spaces:\n",
    "            sentence_translated = sentence_translated.replace(\" \", \"\")\n",
    "    return sentence_translated"
   ]
  },
  {
   "cell_type": "code",
   "execution_count": 35,
   "metadata": {
    "scrolled": true
   },
   "outputs": [],
   "source": [
    "def tensor2sentence(sentence, dictionary, remove_spaces=False):\n",
    "    s = []\n",
    "    for word in sentence:\n",
    "        s.append(dictionary.index2word[word.item()])\n",
    "        \n",
    "    del s[-1] # remove EOS\n",
    "    s = ' '.join(s)\n",
    "    if remove_spaces:\n",
    "        s = s.replace(\" \", \"\")\n",
    "    return s"
   ]
  },
  {
   "cell_type": "code",
   "execution_count": 36,
   "metadata": {
    "scrolled": true
   },
   "outputs": [
    {
     "name": "stdout",
     "output_type": "stream",
     "text": [
      "Translation evaluation\n",
      "input  : they have already finished the work\n",
      "predict: 彼らはもうその仕事を終えた\n",
      "output : 彼らはもうその仕事を終えた\n",
      "-----------------\n",
      "input  : the storm didnt abate for several hours\n",
      "predict: 嵐は数時間おさまらなかった\n",
      "output : 嵐は数時間静まらなかった\n",
      "-----------------\n",
      "input  : thats right unfortunately\n",
      "predict: 残念ながらその通りです\n",
      "output : 残念ながらその通りです\n",
      "-----------------\n"
     ]
    }
   ],
   "source": [
    "print('Translation evaluation')\n",
    "for idx, (inp_sentence, targ_sentence) in enumerate(train_loader):\n",
    "    if idx >= 3:\n",
    "        break\n",
    "    \n",
    "    inp_sentence = inp_sentence[0].to(torch.long).to(device)\n",
    "    targ_sentence = targ_sentence[0].to(torch.long).to(device)\n",
    "    \n",
    "    print('input  :', tensor2sentence(inp_sentence, input_language))\n",
    "    print('predict:', translate(encoder, decoder, inp_sentence, remove_spaces=True))\n",
    "    print('output :', tensor2sentence(targ_sentence, target_language, remove_spaces=True))\n",
    "    print('-----------------')\n",
    "    "
   ]
  },
  {
   "cell_type": "code",
   "execution_count": null,
   "metadata": {},
   "outputs": [],
   "source": []
  }
 ],
 "metadata": {
  "kernelspec": {
   "display_name": "Python 3",
   "language": "python",
   "name": "python3"
  },
  "language_info": {
   "codemirror_mode": {
    "name": "ipython",
    "version": 3
   },
   "file_extension": ".py",
   "mimetype": "text/x-python",
   "name": "python",
   "nbconvert_exporter": "python",
   "pygments_lexer": "ipython3",
   "version": "3.7.4"
  }
 },
 "nbformat": 4,
 "nbformat_minor": 2
}
