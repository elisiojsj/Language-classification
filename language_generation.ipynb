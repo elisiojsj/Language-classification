{
 "cells": [
  {
   "cell_type": "code",
   "execution_count": 49,
   "metadata": {},
   "outputs": [],
   "source": [
    "import torch\n",
    "import torch.nn as nn\n",
    "import os\n",
    "from io import open\n",
    "import glob\n",
    "import unicodedata\n",
    "import string\n",
    "import numpy as np\n",
    "import time\n",
    "import math"
   ]
  },
  {
   "cell_type": "code",
   "execution_count": 50,
   "metadata": {},
   "outputs": [],
   "source": [
    "data_path = './data/*.txt'\n",
    "\n",
    "class LanguageDetect():\n",
    "    def __init__(self, files_path='./data', limit_size=None):\n",
    "        # scan language files\n",
    "        lang_files = glob.glob(data_path)\n",
    "        \n",
    "        self.alphabet = string.ascii_lowercase + '.'\n",
    "        self.n_alphabet = len(self.alphabet)# + 1\n",
    "        self.wordlist = [] # words for all languages on the dataset\n",
    "        self.categorylist = [] # list of categories of languages by index (int)\n",
    "        self.classes = [] # classes of languages ('english', 'spanish'...)\n",
    "        self.padding = 0\n",
    "\n",
    "        idx = 0\n",
    "        for file in lang_files:\n",
    "            language = os.path.splitext(os.path.basename(file))[0]\n",
    "            self.classes.append(language)\n",
    "            words = self._transform_vocab(file, limit_size)\n",
    "            self.wordlist += words\n",
    "            self.categorylist += [idx for i in range(len(words))]\n",
    "            idx += 1\n",
    "        \n",
    "        self.padding = len(max(self.wordlist, key=len)) # size of the largest string\n",
    "           \n",
    "    def _unicodeToAscii(self, s):\n",
    "        all_letters = string.ascii_letters\n",
    "        return ''.join(\n",
    "            c for c in unicodedata.normalize('NFD', s)\n",
    "            if unicodedata.category(c) != 'Mn'\n",
    "            and c in all_letters)\n",
    "\n",
    "    def _transform_vocab(self, vocab, limit_size):\n",
    "        wordset = (open(vocab).read()).lower() # open file and convert letters to lowercase\n",
    "        wordset = ''.join(i for i in wordset if (i.isalpha() | i.isspace())).split() # remove all non alpha and single characters thus split into a list\n",
    "        wordset = [word for word in wordset if len(word) > 1] # remove single characters and spaces\n",
    "        wordset = [self._unicodeToAscii(word) for word in wordset] # convert to ASCII\n",
    "        wordset = list(set(wordset)) # list of unique elements\n",
    "        if limit_size is not None:\n",
    "            wordset = wordset[:limit_size]\n",
    "        return wordset\n",
    "\n",
    "\n",
    "   \n",
    "    def __len__(self):\n",
    "        return len(self.wordlist)\n",
    "    \n",
    "    def __getitem__(self, idx):\n",
    "        word = self.wordlist[idx]\n",
    "        \n",
    "        # target is the word shifited by 1 character to the left\n",
    "        target = [self.alphabet.find(word[i]) for i in range(1, len(word))]\n",
    "        target.append(self.n_alphabet - 1)\n",
    "        target = torch.LongTensor(target)\n",
    "        \n",
    "        # convert word and target to a tensor (len word x 1 x alphabet)\n",
    "        word = word2tensor(word, self.alphabet, n_alphabet, padding=self.padding)\n",
    "        \n",
    "        # convert category to a tensor (len word x 1 x alphabet)\n",
    "        i_category = self.categorylist[idx]\n",
    "        category = category2tensor(i_category, classes)\n",
    "        \n",
    "        return category, word, target\n",
    "        \n",
    "        "
   ]
  },
  {
   "cell_type": "code",
   "execution_count": 51,
   "metadata": {},
   "outputs": [],
   "source": [
    "def word2tensor(word, alphabet, n_alphabet, padding=None):\n",
    "    if padding is not None:\n",
    "        num_charac = padding # pad to the fill the size\n",
    "    else:\n",
    "        num_charac = len(word)\n",
    "    len_word = len(word)\n",
    "    wtensor = torch.zeros(num_charac, 1, n_alphabet)\n",
    "    for iletter in range(len_word):\n",
    "        wtensor[iletter][0][alphabet.find(word[iletter])] = 1\n",
    "    return wtensor\n",
    "\n",
    "\n",
    "def category2tensor(i_category, classes):\n",
    "        category = torch.zeros(1, len(classes))\n",
    "        category[0][i_category] = 1 \n",
    "        return category\n",
    " "
   ]
  },
  {
   "cell_type": "code",
   "execution_count": 52,
   "metadata": {},
   "outputs": [
    {
     "name": "stdout",
     "output_type": "stream",
     "text": [
      "dataset size: 200\n",
      "classes: ['german', 'english']\n"
     ]
    }
   ],
   "source": [
    "dataset = LanguageDetect(data_path, limit_size=100)\n",
    "alphabet = dataset.alphabet\n",
    "n_alphabet = dataset.n_alphabet\n",
    "padding = dataset.padding\n",
    "\n",
    "classes = dataset.classes\n",
    "print('dataset size:', len(dataset))\n",
    "print('classes:', classes)"
   ]
  },
  {
   "cell_type": "code",
   "execution_count": 53,
   "metadata": {},
   "outputs": [
    {
     "name": "stdout",
     "output_type": "stream",
     "text": [
      "<class '__main__.LanguageDetect'>\n",
      "<class 'tuple'>\n",
      "<class 'torch.Tensor'>\n",
      "torch.Size([1, 2])\n"
     ]
    },
    {
     "data": {
      "text/plain": [
       "'a'"
      ]
     },
     "execution_count": 53,
     "metadata": {},
     "output_type": "execute_result"
    }
   ],
   "source": [
    "print(type(dataset))\n",
    "print(type(dataset[0]))\n",
    "print(type(dataset[0][0]))\n",
    "print(dataset[0][0].size())\n",
    "alphabet[0]"
   ]
  },
  {
   "cell_type": "code",
   "execution_count": 54,
   "metadata": {},
   "outputs": [
    {
     "name": "stdout",
     "output_type": "stream",
     "text": [
      "category: tensor([[1., 0.]])\n",
      "category: 0\n",
      "word: dazu\n",
      "target: tensor([ 0, 25, 20, 26])\n",
      "\n",
      "random sample\n",
      "category tensor: tensor([[1., 0.]])\n",
      "category: 0\n",
      "category class: german\n",
      "word: lichterfelde\n",
      "target: ichterfelde\n"
     ]
    }
   ],
   "source": [
    "def tensor2word(tensor):\n",
    "    alphabet = string.ascii_lowercase\n",
    "    word = ''\n",
    "    for i in range(tensor.size()[0]):\n",
    "        for j in range(tensor.size()[2]):\n",
    "            if tensor[i][0][j] == 1:\n",
    "                word += alphabet[j]\n",
    "    return word\n",
    "        \n",
    "def tensor2category(tensor):\n",
    "    _, idxvalue = torch.topk(tensor, 1)\n",
    "    return idxvalue.item()\n",
    "\n",
    "def targettensor2word(tensor):\n",
    "    word = ''\n",
    "    for i in range(len(tensor)-1):\n",
    "        word += alphabet[tensor[i]]\n",
    "    return word\n",
    "    \n",
    "# dataset dim = |idx (category, word, target)\n",
    "# first category\n",
    "print('category:', dataset[0][0])\n",
    "print('category:', tensor2category(dataset[0][0]))\n",
    "#print('category:', dataset[0][0].size())\n",
    "\n",
    "# first word\n",
    "print('word:', tensor2word(dataset[0][1]))\n",
    "# first target\n",
    "print('target:', dataset[0][2])\n",
    "print()\n",
    "\n",
    "# sample example\n",
    "sample_idx = np.random.randint(1, len(dataset))\n",
    "\n",
    "print('random sample')\n",
    "print('category tensor:', dataset[sample_idx][0])\n",
    "print('category:', tensor2category(dataset[sample_idx][0]))\n",
    "print('category class:', classes[tensor2category(dataset[sample_idx][0])])\n",
    "\n",
    "print('word:', tensor2word(dataset[sample_idx][1]))\n",
    "print('target:', targettensor2word(dataset[sample_idx][2]))"
   ]
  },
  {
   "cell_type": "code",
   "execution_count": 55,
   "metadata": {},
   "outputs": [],
   "source": [
    "# split dataset\n",
    "train_size = len(dataset)\n",
    "\n",
    "# creating dataloaders\n",
    "batch_size = 1\n",
    "\n",
    "# create training data loader\n",
    "train_loader = torch.utils.data.DataLoader(dataset=train_data, batch_size=batch_size, shuffle=True)"
   ]
  },
  {
   "cell_type": "markdown",
   "metadata": {},
   "source": [
    "### The model will be based on the following chart\n",
    "![RNN model](./images/simplernn.png)"
   ]
  },
  {
   "cell_type": "code",
   "execution_count": 56,
   "metadata": {},
   "outputs": [],
   "source": [
    "import torch\n",
    "import torch.nn as nn\n",
    "\n",
    "class RNN(nn.Module):\n",
    "    def __init__(self, input_size, hidden_size, n_categories, output_size):\n",
    "        super(RNN, self).__init__()\n",
    "        self.hidden_size = hidden_size\n",
    "\n",
    "        self.i2h = nn.Linear(n_categories + input_size + hidden_size, hidden_size)\n",
    "        self.i2o = nn.Linear(n_categories + input_size + hidden_size, output_size)\n",
    "        self.o2o = nn.Linear(hidden_size + output_size, output_size)\n",
    "        self.dropout = nn.Dropout(0.1)\n",
    "        self.softmax = nn.LogSoftmax(dim=1)\n",
    "\n",
    "    def forward(self, category, input, hidden):\n",
    "        input_combined = torch.cat((category, input, hidden), 1)\n",
    "        hidden = self.i2h(input_combined)\n",
    "        output = self.i2o(input_combined)\n",
    "        output_combined = torch.cat((hidden, output), 1)\n",
    "        output = self.o2o(output_combined)\n",
    "        #output = self.dropout(output)\n",
    "        output = self.softmax(output)\n",
    "        return hidden, output\n",
    "\n",
    "    def initHidden(self):\n",
    "        return torch.zeros(1, self.hidden_size)"
   ]
  },
  {
   "cell_type": "markdown",
   "metadata": {},
   "source": [
    "class RNN(nn.Module):\n",
    "    def __init__(self, input_size, hidden_size, category_size, output_size):\n",
    "        super(RNN, self).__init__()\n",
    "        self.hidden_size = hidden_size\n",
    "        \n",
    "        self.i2o = nn.Linear(category_size+input_size+hidden_size, output_size)\n",
    "        self.i2h = nn.Linear(category_size+input_size+hidden_size, hidden_size)\n",
    "        self.o2o = nn.Linear(output_size+hidden_size, output_size)\n",
    "        self.dropout = nn.Dropout(0.1)\n",
    "        self.softmax = nn.LogSoftmax(dim=1)\n",
    "        \n",
    "    def forward(self, category, input, last_hidden):\n",
    "        hidden = self.i2h(torch.cat((category, input, last_hidden), dim=1))\n",
    "        output = self.i2o(torch.cat((category, input, last_hidden), dim=1)) \n",
    "        out_combined = torch.cat((output, hidden), dim=1)\n",
    "        output = self.o2o(out_combined)\n",
    "        output = self.dropout(output)\n",
    "        output = self.softmax(output)\n",
    "        \n",
    "        return hidden, output\n",
    "    \n",
    "    def initHidden(self):\n",
    "        return torch.zeros(1, self.hidden_size)"
   ]
  },
  {
   "cell_type": "code",
   "execution_count": 57,
   "metadata": {},
   "outputs": [
    {
     "name": "stdout",
     "output_type": "stream",
     "text": [
      "Using gpu: True\n"
     ]
    }
   ],
   "source": [
    "use_cuda = torch.cuda.is_available()\n",
    "device = torch.device(\"cuda\" if use_cuda else \"cpu\")\n",
    "print(\"Using gpu:\", use_cuda)"
   ]
  },
  {
   "cell_type": "markdown",
   "metadata": {},
   "source": [
    "for cat, word, target in train_loader:\n",
    "    print(cat)\n",
    "    print(word)\n",
    "    print(target)\n",
    "    print('word:', tensor2word(word[0]))\n",
    "    print('target:', targettensor2word(target[0]))\n",
    "    break"
   ]
  },
  {
   "cell_type": "code",
   "execution_count": 58,
   "metadata": {},
   "outputs": [],
   "source": [
    "# hidden NN size\n",
    "hidden_size = 256"
   ]
  },
  {
   "cell_type": "code",
   "execution_count": 59,
   "metadata": {},
   "outputs": [],
   "source": [
    "rnn = RNN(n_alphabet, hidden_size, len(classes), n_alphabet).to(device)"
   ]
  },
  {
   "cell_type": "code",
   "execution_count": 60,
   "metadata": {},
   "outputs": [],
   "source": [
    "criterion = nn.NLLLoss()\n",
    "learning_rate = 0.0005\n",
    "\n",
    "\n",
    "optimizer = torch.optim.Adam(rnn.parameters(), lr=learning_rate)\n",
    "\n",
    "PATH_state_dict = './lang_gen.pth' # file to be stored the best weights of the trained model"
   ]
  },
  {
   "cell_type": "code",
   "execution_count": 61,
   "metadata": {},
   "outputs": [],
   "source": [
    "def timeSince(since):\n",
    "    now = time.time()\n",
    "    s = now - since\n",
    "    m = math.floor(s / 60)\n",
    "    s -= m * 60\n",
    "    return '%dm %ds' % (m, s)\n",
    "\n",
    "def train(model, criterion, learning_rate=0.0001, epochs=1000, plots_per_epoch=50):\n",
    "    \n",
    "    cost = []\n",
    "    start_time = time.time()\n",
    "    character_count = 0\n",
    "    loss = 0\n",
    "    for epoch in range(1, epochs+1):\n",
    "        running_loss = 0.0\n",
    "        running_corrects = 0\n",
    "        model.train()\n",
    "        \n",
    "        train_ct = 0\n",
    "        for cat, word, target in train_loader:\n",
    "            cat = cat[0].to(device)\n",
    "            word = word[0].to(device)\n",
    "            target = target[0].unsqueeze_(-1).to(device)\n",
    "\n",
    "            \n",
    "            hidden = model.initHidden().to(device)\n",
    "            model.zero_grad()\n",
    "            loss = 0\n",
    "            loss_t = 0\n",
    "            word_ct = 0\n",
    "\n",
    "            for i in range(word.size()[0]): # go through each letter\n",
    "                if torch.sum(word[i]) > 0: # avoid paddding\n",
    "                    hidden, output = model(cat, word[i], hidden)\n",
    "\n",
    "                    loss_t = criterion(output, target[i])\n",
    "                    loss += loss_t # the loss is calculated for each character\n",
    "\n",
    "                    _, guess = output.topk(1) # return the 1 largest element from output tensor\n",
    "                    guess = guess[0].item()\n",
    "                    if guess == int(target[i]):\n",
    "                        running_corrects += 1\n",
    "                else: break\n",
    "                \n",
    "            train_ct += i\n",
    "            loss.backward()\n",
    "           \n",
    "            \n",
    "            optimizer.step()\n",
    "            running_loss += loss\n",
    "            \n",
    "        cost.append(running_loss)\n",
    "        epoch_acc = running_corrects / train_ct\n",
    "        \n",
    "        if epoch % plots_per_epoch == 0:\n",
    "            print('Epoch [{}] -> Loss: {:.4f}  Acc: {:.4f}'.format(\n",
    "                epoch, running_loss/train_ct, epoch_acc))\n",
    "\n",
    "    \n",
    "    time_elapsed = time.time() - start_time\n",
    "    print()\n",
    "    print('Training completed in {:.0f}m {:.0f}s'.format(\n",
    "        time_elapsed // 60, time_elapsed % 60))\n",
    "    \n",
    "    torch.save(model.state_dict(), PATH_state_dict)\n",
    "    \n",
    "    return model, cost"
   ]
  },
  {
   "cell_type": "code",
   "execution_count": 62,
   "metadata": {},
   "outputs": [
    {
     "name": "stdout",
     "output_type": "stream",
     "text": [
      "Epoch [50] -> Loss: 1.3422  Acc: 0.5518\n",
      "Epoch [100] -> Loss: 1.2609  Acc: 0.5557\n",
      "Epoch [150] -> Loss: 0.9000  Acc: 0.6862\n",
      "Epoch [200] -> Loss: 0.9527  Acc: 0.6569\n",
      "Epoch [250] -> Loss: 1.3335  Acc: 0.5818\n",
      "Epoch [300] -> Loss: 0.9259  Acc: 0.6585\n",
      "Epoch [350] -> Loss: 0.8365  Acc: 0.7043\n",
      "Epoch [400] -> Loss: 1.6849  Acc: 0.5447\n",
      "Epoch [450] -> Loss: 0.7530  Acc: 0.7202\n",
      "Epoch [500] -> Loss: 0.7568  Acc: 0.7257\n",
      "Epoch [550] -> Loss: 0.8081  Acc: 0.6988\n",
      "Epoch [600] -> Loss: 0.7238  Acc: 0.7336\n",
      "Epoch [650] -> Loss: 0.6778  Acc: 0.7542\n",
      "Epoch [700] -> Loss: 0.8172  Acc: 0.7020\n",
      "Epoch [750] -> Loss: 0.6416  Acc: 0.7628\n",
      "Epoch [800] -> Loss: 1.1817  Acc: 0.6300\n",
      "Epoch [850] -> Loss: 0.6272  Acc: 0.7771\n",
      "Epoch [900] -> Loss: 0.6283  Acc: 0.7715\n",
      "Epoch [950] -> Loss: 0.8092  Acc: 0.7146\n",
      "Epoch [1000] -> Loss: 0.6574  Acc: 0.7494\n",
      "\n",
      "Training completed in 14m 55s\n"
     ]
    }
   ],
   "source": [
    "_, cost = train(rnn, criterion, learning_rate, epochs=1000)"
   ]
  },
  {
   "cell_type": "code",
   "execution_count": 63,
   "metadata": {
    "scrolled": true
   },
   "outputs": [
    {
     "data": {
      "text/plain": [
       "[<matplotlib.lines.Line2D at 0x7fb894d9a210>]"
      ]
     },
     "execution_count": 63,
     "metadata": {},
     "output_type": "execute_result"
    },
    {
     "data": {
      "image/png": "[encoded data removed]",
      "text/plain": [
       "<Figure size 432x288 with 1 Axes>"
      ]
     },
     "metadata": {
      "needs_background": "light"
     },
     "output_type": "display_data"
    }
   ],
   "source": [
    "import matplotlib.pyplot as plt\n",
    "import matplotlib.ticker as ticker\n",
    "\n",
    "plt.figure()\n",
    "plt.plot(cost)"
   ]
  },
  {
   "cell_type": "code",
   "execution_count": 64,
   "metadata": {},
   "outputs": [],
   "source": [
    "def gen_word(model, i_category, classes, alphabet, n_alphabet, padding, start_letter='a'):\n",
    "    max_size_word = 25\n",
    "    model.eval() \n",
    "    \n",
    "    word_generated = start_letter\n",
    "    \n",
    "    input_letter_t = word2tensor(start_letter, alphabet, n_alphabet, None).to(device)\n",
    "    category_t = category2tensor(i_category, classes).to(device)\n",
    "    hidden = torch.zeros(1, hidden_size).to(device)\n",
    "    \n",
    "   \n",
    "    for i in range(max_size_word):\n",
    "        hidden, output = model(category_t, input_letter_t[0], hidden)\n",
    "        _, guess_i = output.topk(1)\n",
    "        guess_i = guess_i[0][0]\n",
    "        letter = alphabet[guess_i]\n",
    "        \n",
    "        if letter == '.': # if . (EOS) stop\n",
    "            break\n",
    "        else:\n",
    "            word_generated += letter\n",
    "        input_letter_t = word2tensor(letter, alphabet, n_alphabet, None).to(device)\n",
    "        \n",
    "    return word_generated\n",
    "        "
   ]
  },
  {
   "cell_type": "code",
   "execution_count": 65,
   "metadata": {},
   "outputs": [
    {
     "name": "stdout",
     "output_type": "stream",
     "text": [
      "['german', 'english']\n",
      "acquired\n"
     ]
    }
   ],
   "source": [
    "print(classes)\n",
    "print(gen_word(rnn, 1, classes, alphabet, n_alphabet, padding, 'a'))"
   ]
  },
  {
   "cell_type": "code",
   "execution_count": null,
   "metadata": {},
   "outputs": [],
   "source": []
  }
 ],
 "metadata": {
  "kernelspec": {
   "display_name": "Python 3",
   "language": "python",
   "name": "python3"
  },
  "language_info": {
   "codemirror_mode": {
    "name": "ipython",
    "version": 3
   },
   "file_extension": ".py",
   "mimetype": "text/x-python",
   "name": "python",
   "nbconvert_exporter": "python",
   "pygments_lexer": "ipython3",
   "version": "3.7.4"
  }
 },
 "nbformat": 4,
 "nbformat_minor": 2
}
